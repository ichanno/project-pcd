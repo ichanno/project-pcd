{
  "nbformat": 4,
  "nbformat_minor": 0,
  "metadata": {
    "colab": {
      "provenance": []
    },
    "kernelspec": {
      "name": "python3",
      "display_name": "Python 3"
    },
    "language_info": {
      "name": "python"
    }
  },
  "cells": [
    {
      "cell_type": "markdown",
      "source": [
        "[Link Colab](https://colab.research.google.com/drive/1x56Ho-q47nDz9xDOwFcM6RYBlCD2CHTt?usp=sharing)"
      ],
      "metadata": {
        "id": "5UKq8R0D6r5y"
      }
    },
    {
      "cell_type": "code",
      "execution_count": null,
      "metadata": {
        "id": "unhJxDIr3vhG"
      },
      "outputs": [],
      "source": [
        "# main"
      ]
    }
  ]
}