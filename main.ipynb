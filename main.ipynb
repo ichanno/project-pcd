{
  "nbformat": 4,
  "nbformat_minor": 0,
  "metadata": {
    "colab": {
      "provenance": [],
      "include_colab_link": true
    },
    "kernelspec": {
      "name": "python3",
      "display_name": "Python 3"
    },
    "language_info": {
      "name": "python"
    }
  },
  "cells": [
    {
      "cell_type": "markdown",
      "metadata": {
        "id": "view-in-github",
        "colab_type": "text"
      },
      "source": [
        "<a href=\"https://colab.research.google.com/github/ichanno/project-pcd/blob/main/main.ipynb\" target=\"_parent\"><img src=\"https://colab.research.google.com/assets/colab-badge.svg\" alt=\"Open In Colab\"/></a>"
      ]
    },
    {
      "cell_type": "markdown",
      "source": [
        "[Link Colab](https://colab.research.google.com/drive/1x56Ho-q47nDz9xDOwFcM6RYBlCD2CHTt?usp=sharing)"
      ],
      "metadata": {
        "id": "5UKq8R0D6r5y"
      }
    },
    {
      "cell_type": "markdown",
      "source": [
        "COba Delay"
      ],
      "metadata": {
        "id": "PR97W0Ly7RsU"
      }
    },
    {
      "cell_type": "code",
      "execution_count": null,
      "metadata": {
        "id": "unhJxDIr3vhG"
      },
      "outputs": [],
      "source": [
        "# main"
      ]
    }
  ]
}